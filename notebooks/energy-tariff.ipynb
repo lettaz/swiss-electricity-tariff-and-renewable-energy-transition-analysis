{
 "cells": [
  {
   "cell_type": "markdown",
   "metadata": {},
   "source": [
    "# Electricity Tariff Analysis\n",
    "## Setup and Imports"
   ]
  },
  {
   "cell_type": "code",
   "execution_count": 11,
   "metadata": {},
   "outputs": [
    {
     "name": "stdout",
     "output_type": "stream",
     "text": [
      "Raw Dataset Preview:\n",
      "             Canton Consumption profiles of typical households  Period  \\\n",
      "0            Ticino                                         H4    2020   \n",
      "1           Grisons                                         C3    2020   \n",
      "2         Solothurn                                         C3    2024   \n",
      "3  Basel Landschaft                                         C3    2025   \n",
      "4               Zug                                         C3    2022   \n",
      "\n",
      "            Product  Total excl. VAT (Rp./kWH)  Grid usage (Rp./kWH)  \\\n",
      "0  Cheapest product                  20.353333              8.443333   \n",
      "1  Cheapest product                  18.963333              8.252667   \n",
      "2  Cheapest product                  30.219436             12.086103   \n",
      "3  Cheapest product                  27.651200             12.804000   \n",
      "4  Cheapest product                  18.971711              8.452822   \n",
      "\n",
      "   Energy supply costs (Rp./kWH)  Community fees (Rp./kWH)  \\\n",
      "0                       7.400000                      2.21   \n",
      "1                       7.752889                      0.95   \n",
      "2                      15.333333                      1.00   \n",
      "3                      12.207200                      0.34   \n",
      "4                       7.728889                      0.49   \n",
      "\n",
      "   Feed-in remuneration at cost (KEV) (Rp./kWH)  \n",
      "0                                           2.3  \n",
      "1                                           2.3  \n",
      "2                                           2.3  \n",
      "3                                           2.3  \n",
      "4                                           2.3  \n",
      "\n",
      "Columns: ['Canton', 'Consumption profiles of typical households', 'Period', 'Product', 'Total excl. VAT (Rp./kWH)', 'Grid usage (Rp./kWH)', 'Energy supply costs (Rp./kWH)', 'Community fees (Rp./kWH)', 'Feed-in remuneration at cost (KEV) (Rp./kWH)']\n"
     ]
    }
   ],
   "source": [
    "# Import necessary libraries\n",
    "import pandas as pd\n",
    "import numpy as np\n",
    "import plotly.express as px\n",
    "import plotly.graph_objects as go\n",
    "import plotly.io as pio\n",
    "import matplotlib.pyplot as plt\n",
    "from datetime import datetime\n",
    "import warnings\n",
    "warnings.filterwarnings('ignore')\n",
    "\n",
    "# Load the cleaned electricity tariffs dataset\n",
    "csv_url = '../data/energy_tariff/median_electricity_tariff.csv'\n",
    "\n",
    "df = pd.read_csv(csv_url)\n",
    "\n",
    "print(\"Raw Dataset Preview:\")\n",
    "print(df.head())\n",
    "print(\"\\nColumns:\", df.columns.tolist())"
   ]
  },
  {
   "cell_type": "markdown",
   "metadata": {},
   "source": [
    "## Load and process the data"
   ]
  },
  {
   "cell_type": "code",
   "execution_count": 12,
   "metadata": {},
   "outputs": [],
   "source": [
    "def process_tariff_data(file_path):\n",
    "    # Read the CSV file\n",
    "    df = pd.read_csv(file_path)\n",
    "    \n",
    "    # Filter for years 2021-2024\n",
    "    df['Period'] = pd.to_datetime(df['Period'].astype(str), format='%Y')\n",
    "    df = df[(df['Period'].dt.year >= 2021) & (df['Period'].dt.year <= 2024)]\n",
    "    \n",
    "    # Convert prices from Rappen to CHF\n",
    "    price_columns = [\n",
    "        'Total excl. VAT (Rp./kWH)',\n",
    "        'Grid usage (Rp./kWH)',\n",
    "        'Energy supply costs (Rp./kWH)',\n",
    "        'Community fees (Rp./kWH)',\n",
    "        'Feed-in remuneration at cost (KEV) (Rp./kWH)'\n",
    "    ]\n",
    "    \n",
    "    df[price_columns] = df[price_columns].apply(lambda x: x/100)\n",
    "    \n",
    "    # Calculate prices before and after renewable surcharge\n",
    "    df['price_before_surcharge'] = (\n",
    "        df['Grid usage (Rp./kWH)'] + \n",
    "        df['Energy supply costs (Rp./kWH)'] + \n",
    "        df['Community fees (Rp./kWH)']\n",
    "    )\n",
    "    \n",
    "    df['renewable_surcharge'] = df['Feed-in remuneration at cost (KEV) (Rp./kWH)']\n",
    "    df['total_price'] = df['price_before_surcharge'] + df['renewable_surcharge']\n",
    "    \n",
    "    # Group by Canton and Year\n",
    "    df_yearly = df.groupby(['Canton', df['Period'].dt.year]).agg({\n",
    "        'price_before_surcharge': 'mean',\n",
    "        'renewable_surcharge': 'mean',\n",
    "        'total_price': 'mean'\n",
    "    }).reset_index()\n",
    "    \n",
    "    df_yearly.rename(columns={'Period': 'Year'}, inplace=True)\n",
    "    \n",
    "    return df_yearly"
   ]
  },
  {
   "cell_type": "markdown",
   "metadata": {},
   "source": [
    "## Visualize Data"
   ]
  },
  {
   "cell_type": "code",
   "execution_count": 13,
   "metadata": {},
   "outputs": [],
   "source": [
    "def create_price_trend_plots(df):\n",
    "    # 1. Create and save static PNG plots\n",
    "    plt.style.use('seaborn')\n",
    "    fig, (ax1, ax2, ax3) = plt.subplots(3, 1, figsize=(15, 20))\n",
    "    \n",
    "    # Plot 1: Price before renewable surcharge (PNG)\n",
    "    for canton in df['Canton'].unique():\n",
    "        canton_data = df[df['Canton'] == canton]\n",
    "        ax1.plot(canton_data['Year'], canton_data['price_before_surcharge'], marker='o', label=canton)\n",
    "    ax1.set_title('Energy Price Trend Before Renewable Surcharge by Canton (2021-2024)')\n",
    "    ax1.set_xlabel('Year')\n",
    "    ax1.set_ylabel('Price (CHF/kWh)')\n",
    "    ax1.legend(bbox_to_anchor=(1.05, 1), loc='upper left')\n",
    "    ax1.grid(True)\n",
    "    \n",
    "    # Plot 2: Renewable surcharge impact (PNG)\n",
    "    for canton in df['Canton'].unique():\n",
    "        canton_data = df[df['Canton'] == canton]\n",
    "        ax2.plot(canton_data['Year'], canton_data['renewable_surcharge'], marker='o', label=canton)\n",
    "    ax2.set_title('Renewable Surcharge by Canton (2021-2024)')\n",
    "    ax2.set_xlabel('Year')\n",
    "    ax2.set_ylabel('Price (CHF/kWh)')\n",
    "    ax2.legend(bbox_to_anchor=(1.05, 1), loc='upper left')\n",
    "    ax2.grid(True)\n",
    "    \n",
    "    # Plot 3: Total price trend (PNG)\n",
    "    for canton in df['Canton'].unique():\n",
    "        canton_data = df[df['Canton'] == canton]\n",
    "        ax3.plot(canton_data['Year'], canton_data['total_price'], marker='o', label=canton)\n",
    "    ax3.set_title('Total Energy Price Trend by Canton (2021-2024)')\n",
    "    ax3.set_xlabel('Year')\n",
    "    ax3.set_ylabel('Price (CHF/kWh)')\n",
    "    ax3.legend(bbox_to_anchor=(1.05, 1), loc='upper left')\n",
    "    ax3.grid(True)\n",
    "    \n",
    "    plt.tight_layout()\n",
    "    plt.savefig('../visualisations/energy_price_trends.png', dpi=300, bbox_inches='tight')\n",
    "    plt.close()\n",
    "    \n",
    "    # 2. Create and save interactive HTML plots\n",
    "    layout = dict(\n",
    "        xaxis_title=\"Year\",\n",
    "        yaxis_title=\"Price (CHF/kWh)\",\n",
    "        hovermode='x unified',\n",
    "        template='plotly_white',\n",
    "        width=1200,\n",
    "        height=800\n",
    "    )\n",
    "    \n",
    "    # Plot 1: Price before renewable surcharge (HTML)\n",
    "    fig1 = px.line(df, \n",
    "                   x='Year', \n",
    "                   y='price_before_surcharge',\n",
    "                   color='Canton',\n",
    "                   title='Energy Price Trend Before Renewable Surcharge by Canton (2021-2024)',\n",
    "                   markers=True)\n",
    "    fig1.update_layout(**layout)\n",
    "    fig1.write_html(\"../visualisations/price_trend_before_surcharge.html\")\n",
    "    \n",
    "    # Plot 2: Renewable surcharge impact (HTML)\n",
    "    fig2 = px.line(df,\n",
    "                   x='Year',\n",
    "                   y='renewable_surcharge',\n",
    "                   color='Canton',\n",
    "                   title='Renewable Surcharge by Canton (2021-2024)',\n",
    "                   markers=True)\n",
    "    fig2.update_layout(**layout)\n",
    "    fig2.write_html(\"../visualisations/renewable_surcharge_impact.html\")\n",
    "    \n",
    "    # Plot 3: Total price trend (HTML)\n",
    "    fig3 = px.line(df,\n",
    "                   x='Year',\n",
    "                   y='total_price',\n",
    "                   color='Canton',\n",
    "                   title='Total Energy Price Trend by Canton (2021-2024)',\n",
    "                   markers=True)\n",
    "    fig3.update_layout(**layout)\n",
    "    fig3.write_html(\"../visualisations/total_price_trend.html\")\n",
    "    \n",
    "    return fig1, fig2, fig3"
   ]
  },
  {
   "cell_type": "markdown",
   "metadata": {},
   "source": [
    "## Export the data"
   ]
  },
  {
   "cell_type": "code",
   "execution_count": 14,
   "metadata": {},
   "outputs": [],
   "source": [
    "def export_processed_data(df, output_path):\n",
    "    # Format dates and round numbers\n",
    "    df['date'] = pd.to_datetime(df['date']).dt.strftime('%Y-%m-%d')\n",
    "    price_columns = ['total_price', 'price_before_surcharge', 'renewable_surcharge']\n",
    "    df[price_columns] = df[price_columns].round(4)\n",
    "    \n",
    "    # Export to CSV\n",
    "    df.to_csv(output_path, index=False)"
   ]
  },
  {
   "cell_type": "markdown",
   "metadata": {},
   "source": [
    "## Main execution cell"
   ]
  },
  {
   "cell_type": "code",
   "execution_count": 15,
   "metadata": {},
   "outputs": [
    {
     "name": "stdout",
     "output_type": "stream",
     "text": [
      "\n",
      "Summary Statistics (2021-2024):\n",
      "------------------\n",
      "Number of cantons analyzed: 26\n",
      "Years covered: 2021-2024\n",
      "\n",
      "Mean prices by component (CHF/kWh):\n",
      "Total price: 0.2290\n",
      "Price before surcharge: 0.2060\n",
      "Renewable surcharge: 0.0230\n"
     ]
    }
   ],
   "source": [
    "# Main execution\n",
    "df_processed = process_tariff_data(csv_url)\n",
    "\n",
    "# Create visualizations\n",
    "create_price_trend_plots(df_processed)\n",
    "\n",
    "# Print summary statistics\n",
    "print(\"\\nSummary Statistics (2021-2024):\")\n",
    "print(\"------------------\")\n",
    "print(f\"Number of cantons analyzed: {df_processed['Canton'].nunique()}\")\n",
    "print(f\"Years covered: 2021-2024\")\n",
    "print(\"\\nMean prices by component (CHF/kWh):\")\n",
    "print(f\"Total price: {df_processed['total_price'].mean():.4f}\")\n",
    "print(f\"Price before surcharge: {df_processed['price_before_surcharge'].mean():.4f}\")\n",
    "print(f\"Renewable surcharge: {df_processed['renewable_surcharge'].mean():.4f}\")\n",
    "\n",
    "# Export the processed dataset\n",
    "df_processed.to_csv('../data/processed/canton_energy_prices_2021_2024.csv', index=False)"
   ]
  }
 ],
 "metadata": {
  "kernelspec": {
   "display_name": "base",
   "language": "python",
   "name": "python3"
  },
  "language_info": {
   "codemirror_mode": {
    "name": "ipython",
    "version": 3
   },
   "file_extension": ".py",
   "mimetype": "text/x-python",
   "name": "python",
   "nbconvert_exporter": "python",
   "pygments_lexer": "ipython3",
   "version": "3.10.13"
  }
 },
 "nbformat": 4,
 "nbformat_minor": 2
}
