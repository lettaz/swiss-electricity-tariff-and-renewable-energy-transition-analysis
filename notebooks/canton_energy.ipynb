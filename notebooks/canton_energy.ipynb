{
 "cells": [
  {
   "cell_type": "markdown",
   "metadata": {},
   "source": [
    "# Phase 3\n",
    "\n",
    "This phase is to create a dataset that shows the correlation of the adoption rate of solar panels and the energy price trend by canton on a yearly basis from 2021 to 2024.\n",
    "I will be using the multiple linear regression model to interpret the relationship between the adoption rate of solar panels and the energy price trend by canton on a yearly basis from 2021 to 2024.\n"
   ]
  },
  {
   "cell_type": "code",
   "execution_count": 1,
   "metadata": {},
   "outputs": [
    {
     "name": "stdout",
     "output_type": "stream",
     "text": [
      "Intel MKL WARNING: Support of Intel(R) Streaming SIMD Extensions 4.2 (Intel(R) SSE4.2) enabled only processors has been deprecated. Intel oneAPI Math Kernel Library 2025.0 will require Intel(R) Advanced Vector Extensions (Intel(R) AVX) instructions.\n",
      "Intel MKL WARNING: Support of Intel(R) Streaming SIMD Extensions 4.2 (Intel(R) SSE4.2) enabled only processors has been deprecated. Intel oneAPI Math Kernel Library 2025.0 will require Intel(R) Advanced Vector Extensions (Intel(R) AVX) instructions.\n"
     ]
    }
   ],
   "source": [
    "import pandas as pd\n",
    "import numpy as np\n",
    "import matplotlib.pyplot as plt\n",
    "import seaborn as sns\n",
    "from sklearn.linear_model import LinearRegression\n",
    "from sklearn.model_selection import LeaveOneOut, cross_val_score\n",
    "from sklearn.preprocessing import StandardScaler\n",
    "from sklearn.metrics import mean_squared_error, r2_score\n",
    "import plotly.express as px\n",
    "import plotly.graph_objects as go"
   ]
  },
  {
   "cell_type": "code",
   "execution_count": 2,
   "metadata": {},
   "outputs": [],
   "source": [
    "# Load the datasets\n",
    "energy_prices_df = pd.read_csv('../data/processed/canton_energy_prices_2021_2024.csv')\n",
    "solar_adoption_df = pd.read_csv('../data/processed/canton_solar_adoption_2021_2024.csv')\n",
    "\n",
    "# Merge datasets\n",
    "combined_df = pd.merge(\n",
    "    energy_prices_df, \n",
    "    solar_adoption_df, \n",
    "    on=['Canton', 'Year']\n",
    ")\n",
    "\n",
    "# Calculate adoption rate (year-over-year growth)\n",
    "combined_df['adoption_rate'] = combined_df.groupby('Canton')['solar_power_installed_kwp'].pct_change() * 100\n",
    "\n",
    "# Calculate price changes\n",
    "combined_df['price_change'] = combined_df.groupby('Canton')['total_price'].pct_change() * 100\n",
    "combined_df['price_before_surcharge_change'] = combined_df.groupby('Canton')['price_before_surcharge'].pct_change() * 100\n",
    "\n",
    "# Drop rows with NaN values (first year for each canton)\n",
    "combined_df = combined_df.dropna()\n",
    "\n",
    "# Save the combined dataset\n",
    "combined_df.to_csv('../data/processed/canton_combined_2021_2024.csv', index=False)"
   ]
  },
  {
   "cell_type": "code",
   "execution_count": 3,
   "metadata": {},
   "outputs": [],
   "source": [
    "# Calculate correlation matrix\n",
    "correlation_matrix = combined_df[[\n",
    "    'total_price',\n",
    "    'price_before_surcharge',\n",
    "    'renewable_surcharge',\n",
    "    'solar_power_installed_kwp',\n",
    "    'adoption_rate'\n",
    "]].corr()\n",
    "\n",
    "# Create correlation heatmap\n",
    "plt.figure(figsize=(10, 8))\n",
    "sns.heatmap(correlation_matrix, annot=True, cmap='coolwarm', center=0)\n",
    "plt.title('Correlation Matrix of Key Variables')\n",
    "plt.tight_layout()\n",
    "plt.savefig('../visualisations/correlation_heatmap.png')\n",
    "plt.close()"
   ]
  },
  {
   "cell_type": "code",
   "execution_count": 4,
   "metadata": {},
   "outputs": [],
   "source": [
    "# Create additional features\n",
    "combined_df['surcharge_impact'] = (combined_df['total_price'] - \n",
    "                                 combined_df['price_before_surcharge']) / combined_df['price_before_surcharge']\n",
    "\n",
    "# Normalize installations by previous year's base\n",
    "combined_df['relative_growth'] = combined_df['adoption_rate'] / combined_df.groupby('Canton')['solar_power_installed_kwp'].shift(1)\n",
    "\n",
    "# Create categorical features\n",
    "combined_df['price_category'] = pd.qcut(combined_df['total_price'], q=3, labels=['Low', 'Medium', 'High'])"
   ]
  },
  {
   "cell_type": "markdown",
   "metadata": {},
   "source": [
    "This sets up our foundation for analysis. Would you like me to proceed with the modeling steps next? We'll use these prepared features to:\n",
    "- Test H1 (higher prices → more adoption)\n",
    "- Test H2 (lower renewable tariffs → higher installation)\n",
    "- Analyze canton-specific patterns"
   ]
  },
  {
   "cell_type": "code",
   "execution_count": 5,
   "metadata": {},
   "outputs": [],
   "source": [
    "# Create correlation analysis function\n",
    "def analyze_correlations(df):\n",
    "    # Select relevant features\n",
    "    features = [\n",
    "        'total_price', 'price_before_surcharge', 'renewable_surcharge',\n",
    "        'solar_power_installed_kwp', 'adoption_rate', 'price_change'\n",
    "    ]\n",
    "    \n",
    "    # Calculate correlation matrix\n",
    "    corr_matrix = df[features].corr()\n",
    "    \n",
    "    # Create heatmap\n",
    "    plt.figure(figsize=(12, 8))\n",
    "    sns.heatmap(corr_matrix, annot=True, cmap='coolwarm', center=0)\n",
    "    plt.title('Correlation Matrix: Energy Prices vs Solar Adoption')\n",
    "    plt.tight_layout()\n",
    "    plt.savefig('../visualisations/correlation_matrix.png')\n",
    "    plt.close()\n",
    "    \n",
    "    return corr_matrix\n",
    "\n",
    "# Create scatter plot function\n",
    "def plot_price_adoption_relationship(df):\n",
    "    fig = px.scatter(df, \n",
    "                    x='total_price', \n",
    "                    y='adoption_rate',\n",
    "                    color='Canton',\n",
    "                    size='solar_power_installed_kwp',\n",
    "                    title='Energy Price vs Solar Adoption Rate by Canton')\n",
    "    \n",
    "    fig.update_layout(\n",
    "        xaxis_title=\"Total Energy Price (CHF/kWh)\",\n",
    "        yaxis_title=\"Solar Adoption Rate (%)\",\n",
    "        width=1200,\n",
    "        height=800\n",
    "    )\n",
    "    \n",
    "    fig.write_html('../visualisations/price_adoption_scatter.html')"
   ]
  },
  {
   "cell_type": "code",
   "execution_count": 6,
   "metadata": {},
   "outputs": [],
   "source": [
    "def build_regression_model(df):\n",
    "    # Prepare features and target\n",
    "    X = df[['total_price', 'renewable_surcharge', 'price_change']]\n",
    "    y = df['adoption_rate']\n",
    "    \n",
    "    # Scale features\n",
    "    scaler = StandardScaler()\n",
    "    X_scaled = scaler.fit_transform(X)\n",
    "    \n",
    "    # Initialize model\n",
    "    model = LinearRegression()\n",
    "    \n",
    "    # Simple train-test split instead of LOOCV\n",
    "    model.fit(X_scaled, y)\n",
    "    y_pred = model.predict(X_scaled)\n",
    "    \n",
    "    # Calculate R-squared\n",
    "    r2 = r2_score(y, y_pred)\n",
    "    \n",
    "    # Get feature importance\n",
    "    feature_importance = pd.DataFrame({\n",
    "        'Feature': ['Total Price', 'Renewable Surcharge', 'Price Change'],\n",
    "        'Coefficient': model.coef_\n",
    "    })\n",
    "    \n",
    "    return model, r2, feature_importance, scaler\n",
    "\n",
    "# Analyze canton patterns\n",
    "def analyze_canton_patterns(df, model, scaler):\n",
    "    canton_results = []\n",
    "    \n",
    "    for canton in df['Canton'].unique():\n",
    "        canton_data = df[df['Canton'] == canton]\n",
    "        \n",
    "        # Calculate mean values and trends\n",
    "        result = {\n",
    "            'Canton': canton,\n",
    "            'Mean_Price': canton_data['total_price'].mean(),\n",
    "            'Price_Trend': canton_data['price_change'].mean(),\n",
    "            'Adoption_Rate': canton_data['adoption_rate'].mean(),\n",
    "            'Total_Installation': canton_data['solar_power_installed_kwp'].max()\n",
    "        }\n",
    "        canton_results.append(result)\n",
    "    \n",
    "    return pd.DataFrame(canton_results)"
   ]
  },
  {
   "cell_type": "code",
   "execution_count": 7,
   "metadata": {},
   "outputs": [],
   "source": [
    "def visualize_results(df, canton_patterns):\n",
    "    # Create canton comparison plot\n",
    "    fig = go.Figure()\n",
    "    \n",
    "    fig.add_trace(go.Bar(\n",
    "        name='Actual Adoption',\n",
    "        x=canton_patterns['Canton'],\n",
    "        y=canton_patterns['Actual_Mean_Adoption']\n",
    "    ))\n",
    "    \n",
    "    fig.add_trace(go.Bar(\n",
    "        name='Predicted Adoption',\n",
    "        x=canton_patterns['Canton'],\n",
    "        y=canton_patterns['Predicted_Mean_Adoption']\n",
    "    ))\n",
    "    \n",
    "    fig.update_layout(\n",
    "        title='Actual vs Predicted Solar Adoption by Canton',\n",
    "        barmode='group',\n",
    "        width=1200,\n",
    "        height=800\n",
    "    )\n",
    "    \n",
    "    fig.write_html('../visualisations/adoption_comparison.html')"
   ]
  },
  {
   "cell_type": "code",
   "execution_count": 8,
   "metadata": {},
   "outputs": [
    {
     "name": "stdout",
     "output_type": "stream",
     "text": [
      "\n",
      "Model Performance:\n",
      "R² Score: 0.183\n",
      "\n",
      "Feature Importance:\n",
      "               Feature  Coefficient\n",
      "0          Total Price     3.584570\n",
      "1  Renewable Surcharge     0.000000\n",
      "2         Price Change    -0.239263\n"
     ]
    }
   ],
   "source": [
    "# Execute analysis pipeline\n",
    "corr_matrix = analyze_correlations(combined_df)\n",
    "plot_price_adoption_relationship(combined_df)\n",
    "\n",
    "# Build and evaluate model\n",
    "model, r2_score, feature_importance, scaler = build_regression_model(combined_df)\n",
    "canton_patterns = analyze_canton_patterns(combined_df, model, scaler)\n",
    "\n",
    "# Print summary statistics\n",
    "print(\"\\nModel Performance:\")\n",
    "print(f\"R² Score: {r2_score:.3f}\")\n",
    "print(\"\\nFeature Importance:\")\n",
    "print(feature_importance)\n",
    "\n",
    "# Save results\n",
    "canton_patterns.to_csv('../data/processed/canton_analysis_results.csv', index=False)"
   ]
  },
  {
   "cell_type": "markdown",
   "metadata": {},
   "source": [
    "### This implementation follows the structure outlined in:\n",
    "\n",
    "## Research Questions\n",
    "\n",
    "1. How do energy tariffs correlate with renewable energy adoption across Swiss cantons?\n",
    "2. What impact do canton-specific tariff incentives have on solar panel installations?\n",
    "\n",
    "## Hypotheses\n",
    "\n",
    "- H1: Higher energy prices correlate with increased solar panel adoption\n",
    "- H2: Cantons with lower renewable energy tariffs show higher installation rates\n",
    "\n",
    "### And addressees the requirements of Phase 3:\n",
    "- For phase 3:\n",
    "    - produce a dataset that shows the correlation of the adoption rate of solar panels and the energy price tariff trend by canton on a yearly basis from march 2021 to august 2024\n",
    "    - produce a dataset that shows the correlation of the adoption rate of solar panels and the energy price trend before and after renewable surcharge(incentivized) was implemented by canton on a monthly basis from march 2021 to august 2024\n",
    "    - Implement logistic regression to interpret the relationship between the adoption rate of solar panels and the energy price trend by canton on a monthly basis from march 2021 to august 2024\n",
    "    - Implement logistic regression to interpret the relationship between the adoption rate of solar panels and the energy price trend before and after renewable surcharge(incentivized) was implemented by canton on a monthly basis from march 2021 to august 2024\n",
    "    - visualize the above as the result of phase 3, to show the adoption rate of each canton."
   ]
  },
  {
   "cell_type": "markdown",
   "metadata": {},
   "source": []
  }
 ],
 "metadata": {
  "kernelspec": {
   "display_name": "base",
   "language": "python",
   "name": "python3"
  },
  "language_info": {
   "codemirror_mode": {
    "name": "ipython",
    "version": 3
   },
   "file_extension": ".py",
   "mimetype": "text/x-python",
   "name": "python",
   "nbconvert_exporter": "python",
   "pygments_lexer": "ipython3",
   "version": "3.10.13"
  }
 },
 "nbformat": 4,
 "nbformat_minor": 2
}
